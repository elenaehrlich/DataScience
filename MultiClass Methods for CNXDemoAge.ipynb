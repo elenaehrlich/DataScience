{
 "cells": [
  {
   "cell_type": "markdown",
   "metadata": {},
   "source": [
    "# MultiClass Methods for CNXDemo Age"
   ]
  },
  {
   "cell_type": "code",
   "execution_count": 6,
   "metadata": {
    "collapsed": false
   },
   "outputs": [],
   "source": [
    "################################################\n",
    "# Python libraries & settings preamble\n",
    "################################################\n",
    "import binascii\n",
    "from cycler import cycler\n",
    "import datetime\n",
    "from IPython.display import Image #Image(filename='//Users//161751//Desktop//Lion_Pride.jpg')\n",
    "from IPython.display import display\n",
    "import itertools\n",
    "#import locale\n",
    "#locale.setlocale(locale.LC_ALL, 'en_US')\n",
    "import matplotlib\n",
    "matplotlib.use('Agg')\n",
    "import matplotlib.gridspec as gridspec\n",
    "import matplotlib.pylab as pylab\n",
    "import matplotlib.pyplot as plt\n",
    "import numpy\n",
    "import numpy.matlib\n",
    "import os\n",
    "import pandas\n",
    "from pandas.tools.util import cartesian_product\n",
    "from pg import DB\n",
    "import plotly.plotly as py\n",
    "py.sign_in('mathsmodel', 'zcwivinavl')\n",
    "import plotly.graph_objs as go\n",
    "import pylab\n",
    "from pylab import rcParams\n",
    "import re\n",
    "import seaborn\n",
    "import scipy\n",
    "from scipy import stats\n",
    "from scipy.interpolate import UnivariateSpline\n",
    "from scipy.signal import argrelextrema\n",
    "from scipy.spatial.distance import euclidean\n",
    "from sklearn.cluster import MeanShift, estimate_bandwidth\n",
    "from sklearn.naive_bayes import BernoulliNB\n",
    "from sklearn.naive_bayes import GaussianNB\n",
    "from sklearn.naive_bayes import MultinomialNB\n",
    "from sklearn.lda import LDA\n",
    "from sklearn.decomposition import PCA\n",
    "from statsmodels.distributions.empirical_distribution import ECDF\n",
    "import sys\n",
    "import urllib\n",
    "import time\n",
    "import warnings\n",
    "warnings.filterwarnings('ignore')\n",
    "pylab.ion()\n",
    "\n",
    "\n",
    "get_ipython().magic(u'matplotlib inline')\n",
    "matplotlib.rcParams.update({'font.size': 10})\n",
    "font = {'family' : 'serif',\n",
    "        'weight' : 'bold',\n",
    "        'size'   : 10}\n",
    "matplotlib.rc('font', **font)\n",
    "matplotlib.rc('axes', labelsize='large')\n",
    "matplotlib.rc('axes', titlesize='large')\n",
    "rcParams['figure.figsize'] = 14, 6\n",
    "\n",
    "def intWithCommas(x):\n",
    "    if type(x) not in [type(0), type(0L)]:\n",
    "        raise TypeError(\"Parameter must be an integer.\")\n",
    "    if x < 0:\n",
    "        return '-' + intWithCommas(-x)\n",
    "    result = ''\n",
    "    while x >= 1000:\n",
    "        x, r = divmod(x, 1000)\n",
    "        result = \",%03d%s\" % (r, result)\n",
    "    return \"%d%s\" % (x, result)\n"
   ]
  },
  {
   "cell_type": "markdown",
   "metadata": {},
   "source": [
    "# Read in Training, Validation, and OOS Sets\n",
    "\n",
    "TOPIC: CNXDemo Age\n",
    "\n",
    "ETS: merged\n",
    "\n",
    "FEATURES: Hashed ~180,000 --> 256"
   ]
  },
  {
   "cell_type": "code",
   "execution_count": 7,
   "metadata": {
    "collapsed": false
   },
   "outputs": [],
   "source": [
    "#training = pandas.read_csv(\"mergedETS_training_featuresHashed.tsv\", index_col=0, header=None)\n",
    "#validation = pandas.read_csv(\"mergedETS_validation_featuresHashed.tsv\", index_col=0, header=None)\n",
    "ets = pandas.read_csv('mergedETS_featuresHashed.tsv', header=None, index_col=0)\n",
    "\n",
    "t = pandas.read_csv('/home/cxt/spark/multinomial-uids/training.txt', header=None).as_matrix().ravel()\n",
    "v = pandas.read_csv('/home/cxt/spark/multinomial-uids/validation.txt', header=None).as_matrix().ravel()\n",
    "training = ets.loc[t].copy()\n",
    "validation = ets.loc[v].copy()\n",
    "\n",
    "training_labels = training[1]\n",
    "training_features = training[training.columns[1:]]\n",
    "\n",
    "validation_labels = validation[1]\n",
    "validation_features = validation[validation.columns[1:]]\n",
    "#del ets\n",
    "\n",
    "how_wrong_can_we_classify_user = pandas.read_csv('how_wrong_can_we_classify_user.tsv').drop('Pred Bucket',axis=1)\n",
    "#efficacy_validation = pandas.DataFrame(0, columns=['NBbernoulli','LDA','NBgaussian','NBmultinomial'], index=['accuracy','weighted-error'])"
   ]
  },
  {
   "cell_type": "code",
   "execution_count": 2,
   "metadata": {
    "collapsed": true
   },
   "outputs": [],
   "source": [
    "map_xid_tkid_age = pandas.DataFrame([[672,11349,21],\n",
    "[673,11350,27],\n",
    "[674,11351,32],\n",
    "[675,11352,37],\n",
    "[676,11353,42],\n",
    "[677,11354,47],\n",
    "[678,11355,52],\n",
    "[679,11356,57],\n",
    "[680,11357,62],\n",
    "[681,11358,71]], columns=['tkid','xid','age']).set_index('xid')\n",
    "oos = pandas.read_csv('oos_featuresHashed.tsv', header=None)\n",
    "oos_labels = map_xid_tkid_age.loc[oos[0]]['tkid'].ravel()\n",
    "oos_features = oos[oos.columns[1:]]\n",
    "\n",
    "#efficacy_oos = pandas.DataFrame(0, columns=['NBbernoulli','LDA','NBgaussian','NBmultinomial'], index=['accuracy','weighted-error'])"
   ]
  },
  {
   "cell_type": "code",
   "execution_count": 7,
   "metadata": {
    "collapsed": false
   },
   "outputs": [
    {
     "data": {
      "text/plain": [
       "0\n",
       "11349    0.067775\n",
       "11350    0.079607\n",
       "11351    0.093748\n",
       "11352    0.090230\n",
       "11353    0.087450\n",
       "11354    0.094080\n",
       "11355    0.108350\n",
       "11356    0.105695\n",
       "11357    0.105444\n",
       "11358    0.167620\n",
       "dtype: float64"
      ]
     },
     "execution_count": 7,
     "metadata": {},
     "output_type": "execute_result"
    }
   ],
   "source": [
    "oos.groupby(0).size() / float(oos.shape[0])"
   ]
  },
  {
   "cell_type": "markdown",
   "metadata": {},
   "source": [
    "### Method: Naive Bayes Bernoulli "
   ]
  },
  {
   "cell_type": "code",
   "execution_count": 244,
   "metadata": {
    "collapsed": false
   },
   "outputs": [
    {
     "name": "stdout",
     "output_type": "stream",
     "text": [
      "0.29323144738\n"
     ]
    }
   ],
   "source": [
    "nb_bernoulli = BernoulliNB()\n",
    "nb_bernoulli.fit(training_features, training_labels)\n",
    "\n",
    "validation_pred = nb_bernoulli.predict(validation_features)\n",
    "accuracy = nb_bernoulli.score(validation_features, validation_labels)\n",
    "print(accuracy)\n",
    "\n",
    "alg = \"NBbernoulli\"\n",
    "uids = pandas.DataFrame(validation_labels, columns=['true']).join(pandas.DataFrame(validation_pred,columns=['pred'])) \n",
    "counts = uids.groupby(['true','pred']).size().unstack().transpose()\n",
    "c = counts.reset_index(drop=True).transpose().reset_index(drop=True).transpose() \n",
    "distance_error_counts = how_wrong_can_we_classify_user.reset_index(drop=True).transpose().reset_index(drop=True).transpose().multiply(c)\n",
    "distance_error = distance_error_counts.sum().sum()/counts.sum().sum()\n",
    "efficacy_validation.loc['accuracy',alg] = accuracy\n",
    "efficacy_validation.loc['weighted-error',alg] = distance_error"
   ]
  },
  {
   "cell_type": "markdown",
   "metadata": {},
   "source": [
    "### Method: Linear Discriminant Analysis"
   ]
  },
  {
   "cell_type": "code",
   "execution_count": null,
   "metadata": {
    "collapsed": true
   },
   "outputs": [],
   "source": [
    "lda = LDA()\n",
    "lda.fit(training_features, training_labels)\n",
    "\n",
    "validation_pred = lda.predict(validation_features)\n",
    "accuracy = lda.score(validation_features,validation_labels)\n",
    "print(accuracy)\n",
    "\n",
    "alg = \"LDA\"\n",
    "uids = pandas.DataFrame(validation_labels, columns=['true']).join(pandas.DataFrame(validation_pred,columns=['pred'])) \n",
    "counts = uids.groupby(['true','pred']).size().unstack().transpose()\n",
    "c = counts.reset_index(drop=True).transpose().reset_index(drop=True).transpose() \n",
    "distance_error_counts = how_wrong_can_we_classify_user.reset_index(drop=True).transpose().reset_index(drop=True).transpose().multiply(c)\n",
    "distance_error = distance_error_counts.sum().sum()/counts.sum().sum()\n",
    "efficacy_validation.loc['accuracy',alg] = accuracy\n",
    "efficacy_validation.loc['weighted-error',alg] = distance_error"
   ]
  },
  {
   "cell_type": "markdown",
   "metadata": {},
   "source": [
    "# Principle Component Analysis"
   ]
  },
  {
   "cell_type": "code",
   "execution_count": 18,
   "metadata": {
    "collapsed": false
   },
   "outputs": [],
   "source": [
    "pca = PCA(n_components=training_features.shape[1])\n",
    "pca.fit(training_features)\n",
    "#plt.figure()\n",
    "#plt.bar(numpy.arange(training_features.shape[1]), numpy.cumsum(pca.explained_variance_ratio_))\n",
    "#plt.xlabel('Component')\n",
    "#plt.ylabel('Explained Variance Ratio')\n",
    "\n",
    "training_transformed = pca.transform(training_features)\n",
    "validation_transformed = pca.transform(validation_features)"
   ]
  },
  {
   "cell_type": "code",
   "execution_count": 41,
   "metadata": {
    "collapsed": false
   },
   "outputs": [
    {
     "name": "stdout",
     "output_type": "stream",
     "text": [
      "(256, 256)\n"
     ]
    },
    {
     "data": {
      "text/html": [
       "<div>\n",
       "<table border=\"1\" class=\"dataframe\">\n",
       "  <thead>\n",
       "    <tr style=\"text-align: right;\">\n",
       "      <th></th>\n",
       "      <th>0</th>\n",
       "      <th>1</th>\n",
       "      <th>2</th>\n",
       "      <th>3</th>\n",
       "      <th>4</th>\n",
       "      <th>5</th>\n",
       "      <th>6</th>\n",
       "      <th>7</th>\n",
       "      <th>8</th>\n",
       "      <th>9</th>\n",
       "      <th>...</th>\n",
       "      <th>246</th>\n",
       "      <th>247</th>\n",
       "      <th>248</th>\n",
       "      <th>249</th>\n",
       "      <th>250</th>\n",
       "      <th>251</th>\n",
       "      <th>252</th>\n",
       "      <th>253</th>\n",
       "      <th>254</th>\n",
       "      <th>255</th>\n",
       "    </tr>\n",
       "  </thead>\n",
       "  <tbody>\n",
       "    <tr>\n",
       "      <th>0</th>\n",
       "      <td>-0.074278</td>\n",
       "      <td>0.088570</td>\n",
       "      <td>0.271287</td>\n",
       "      <td>-0.023725</td>\n",
       "      <td>-0.094105</td>\n",
       "      <td>-0.136623</td>\n",
       "      <td>-0.011198</td>\n",
       "      <td>-0.011292</td>\n",
       "      <td>0.024024</td>\n",
       "      <td>0.101774</td>\n",
       "      <td>...</td>\n",
       "      <td>-0.020795</td>\n",
       "      <td>-0.000482</td>\n",
       "      <td>0.008545</td>\n",
       "      <td>0.033718</td>\n",
       "      <td>0.002651</td>\n",
       "      <td>-0.009493</td>\n",
       "      <td>0.402715</td>\n",
       "      <td>-0.105636</td>\n",
       "      <td>-0.646764</td>\n",
       "      <td>-0.013882</td>\n",
       "    </tr>\n",
       "    <tr>\n",
       "      <th>1</th>\n",
       "      <td>-0.104350</td>\n",
       "      <td>0.133818</td>\n",
       "      <td>-0.129681</td>\n",
       "      <td>-0.080979</td>\n",
       "      <td>-0.057142</td>\n",
       "      <td>-0.110781</td>\n",
       "      <td>0.110550</td>\n",
       "      <td>0.055610</td>\n",
       "      <td>-0.018507</td>\n",
       "      <td>0.101492</td>\n",
       "      <td>...</td>\n",
       "      <td>0.002882</td>\n",
       "      <td>-0.002480</td>\n",
       "      <td>-0.020893</td>\n",
       "      <td>0.005431</td>\n",
       "      <td>0.004285</td>\n",
       "      <td>0.004494</td>\n",
       "      <td>0.018042</td>\n",
       "      <td>-0.012318</td>\n",
       "      <td>0.009280</td>\n",
       "      <td>0.003229</td>\n",
       "    </tr>\n",
       "    <tr>\n",
       "      <th>2</th>\n",
       "      <td>-0.071304</td>\n",
       "      <td>-0.048105</td>\n",
       "      <td>-0.037445</td>\n",
       "      <td>-0.064261</td>\n",
       "      <td>-0.048046</td>\n",
       "      <td>-0.027074</td>\n",
       "      <td>-0.090486</td>\n",
       "      <td>-0.006436</td>\n",
       "      <td>-0.050081</td>\n",
       "      <td>-0.032147</td>\n",
       "      <td>...</td>\n",
       "      <td>0.007272</td>\n",
       "      <td>0.000412</td>\n",
       "      <td>0.008902</td>\n",
       "      <td>-0.003136</td>\n",
       "      <td>0.001101</td>\n",
       "      <td>0.000272</td>\n",
       "      <td>-0.002041</td>\n",
       "      <td>0.008749</td>\n",
       "      <td>-0.001739</td>\n",
       "      <td>-0.008178</td>\n",
       "    </tr>\n",
       "    <tr>\n",
       "      <th>3</th>\n",
       "      <td>-0.064023</td>\n",
       "      <td>-0.080124</td>\n",
       "      <td>-0.022189</td>\n",
       "      <td>-0.023991</td>\n",
       "      <td>-0.007230</td>\n",
       "      <td>-0.022722</td>\n",
       "      <td>0.002701</td>\n",
       "      <td>-0.057324</td>\n",
       "      <td>-0.011524</td>\n",
       "      <td>0.024962</td>\n",
       "      <td>...</td>\n",
       "      <td>0.001392</td>\n",
       "      <td>0.002433</td>\n",
       "      <td>0.004055</td>\n",
       "      <td>-0.011253</td>\n",
       "      <td>-0.003600</td>\n",
       "      <td>-0.009001</td>\n",
       "      <td>0.005132</td>\n",
       "      <td>-0.010099</td>\n",
       "      <td>0.003127</td>\n",
       "      <td>0.003835</td>\n",
       "    </tr>\n",
       "    <tr>\n",
       "      <th>4</th>\n",
       "      <td>-0.099983</td>\n",
       "      <td>0.035365</td>\n",
       "      <td>-0.052276</td>\n",
       "      <td>-0.011954</td>\n",
       "      <td>0.034217</td>\n",
       "      <td>0.062766</td>\n",
       "      <td>0.007102</td>\n",
       "      <td>0.003635</td>\n",
       "      <td>-0.071361</td>\n",
       "      <td>-0.003909</td>\n",
       "      <td>...</td>\n",
       "      <td>-0.169632</td>\n",
       "      <td>0.289181</td>\n",
       "      <td>0.064872</td>\n",
       "      <td>0.125424</td>\n",
       "      <td>0.004668</td>\n",
       "      <td>-0.020019</td>\n",
       "      <td>-0.044315</td>\n",
       "      <td>0.011130</td>\n",
       "      <td>0.002360</td>\n",
       "      <td>0.001121</td>\n",
       "    </tr>\n",
       "  </tbody>\n",
       "</table>\n",
       "<p>5 rows × 256 columns</p>\n",
       "</div>"
      ],
      "text/plain": [
       "        0         1         2         3         4         5         6    \\\n",
       "0 -0.074278  0.088570  0.271287 -0.023725 -0.094105 -0.136623 -0.011198   \n",
       "1 -0.104350  0.133818 -0.129681 -0.080979 -0.057142 -0.110781  0.110550   \n",
       "2 -0.071304 -0.048105 -0.037445 -0.064261 -0.048046 -0.027074 -0.090486   \n",
       "3 -0.064023 -0.080124 -0.022189 -0.023991 -0.007230 -0.022722  0.002701   \n",
       "4 -0.099983  0.035365 -0.052276 -0.011954  0.034217  0.062766  0.007102   \n",
       "\n",
       "        7         8         9      ...          246       247       248  \\\n",
       "0 -0.011292  0.024024  0.101774    ...    -0.020795 -0.000482  0.008545   \n",
       "1  0.055610 -0.018507  0.101492    ...     0.002882 -0.002480 -0.020893   \n",
       "2 -0.006436 -0.050081 -0.032147    ...     0.007272  0.000412  0.008902   \n",
       "3 -0.057324 -0.011524  0.024962    ...     0.001392  0.002433  0.004055   \n",
       "4  0.003635 -0.071361 -0.003909    ...    -0.169632  0.289181  0.064872   \n",
       "\n",
       "        249       250       251       252       253       254       255  \n",
       "0  0.033718  0.002651 -0.009493  0.402715 -0.105636 -0.646764 -0.013882  \n",
       "1  0.005431  0.004285  0.004494  0.018042 -0.012318  0.009280  0.003229  \n",
       "2 -0.003136  0.001101  0.000272 -0.002041  0.008749 -0.001739 -0.008178  \n",
       "3 -0.011253 -0.003600 -0.009001  0.005132 -0.010099  0.003127  0.003835  \n",
       "4  0.125424  0.004668 -0.020019 -0.044315  0.011130  0.002360  0.001121  \n",
       "\n",
       "[5 rows x 256 columns]"
      ]
     },
     "execution_count": 41,
     "metadata": {},
     "output_type": "execute_result"
    }
   ],
   "source": [
    "principle_components = pandas.DataFrame(pca.components_).transpose()\n",
    "print(principle_components.shape)\n",
    "principle_components.head()"
   ]
  },
  {
   "cell_type": "code",
   "execution_count": 34,
   "metadata": {
    "collapsed": false
   },
   "outputs": [],
   "source": [
    "pca.components_ = pca.components_ * (-1)"
   ]
  },
  {
   "cell_type": "code",
   "execution_count": 42,
   "metadata": {
    "collapsed": false
   },
   "outputs": [
    {
     "name": "stdout",
     "output_type": "stream",
     "text": [
      "(275396, 256)\n"
     ]
    },
    {
     "data": {
      "text/html": [
       "<div>\n",
       "<table border=\"1\" class=\"dataframe\">\n",
       "  <thead>\n",
       "    <tr style=\"text-align: right;\">\n",
       "      <th></th>\n",
       "      <th>0</th>\n",
       "      <th>1</th>\n",
       "      <th>2</th>\n",
       "      <th>3</th>\n",
       "      <th>4</th>\n",
       "      <th>5</th>\n",
       "      <th>6</th>\n",
       "      <th>7</th>\n",
       "      <th>8</th>\n",
       "      <th>9</th>\n",
       "      <th>...</th>\n",
       "      <th>246</th>\n",
       "      <th>247</th>\n",
       "      <th>248</th>\n",
       "      <th>249</th>\n",
       "      <th>250</th>\n",
       "      <th>251</th>\n",
       "      <th>252</th>\n",
       "      <th>253</th>\n",
       "      <th>254</th>\n",
       "      <th>255</th>\n",
       "    </tr>\n",
       "    <tr>\n",
       "      <th>0</th>\n",
       "      <th></th>\n",
       "      <th></th>\n",
       "      <th></th>\n",
       "      <th></th>\n",
       "      <th></th>\n",
       "      <th></th>\n",
       "      <th></th>\n",
       "      <th></th>\n",
       "      <th></th>\n",
       "      <th></th>\n",
       "      <th></th>\n",
       "      <th></th>\n",
       "      <th></th>\n",
       "      <th></th>\n",
       "      <th></th>\n",
       "      <th></th>\n",
       "      <th></th>\n",
       "      <th></th>\n",
       "      <th></th>\n",
       "      <th></th>\n",
       "      <th></th>\n",
       "    </tr>\n",
       "  </thead>\n",
       "  <tbody>\n",
       "    <tr>\n",
       "      <th>20156320856149863</th>\n",
       "      <td>1.292196</td>\n",
       "      <td>-1.414736</td>\n",
       "      <td>-0.865697</td>\n",
       "      <td>-0.107149</td>\n",
       "      <td>0.095529</td>\n",
       "      <td>-0.815595</td>\n",
       "      <td>0.629699</td>\n",
       "      <td>0.449353</td>\n",
       "      <td>-1.597152</td>\n",
       "      <td>0.276497</td>\n",
       "      <td>...</td>\n",
       "      <td>0.047981</td>\n",
       "      <td>-0.007549</td>\n",
       "      <td>-0.059181</td>\n",
       "      <td>-0.130107</td>\n",
       "      <td>0.069376</td>\n",
       "      <td>-0.151251</td>\n",
       "      <td>0.146924</td>\n",
       "      <td>-0.115643</td>\n",
       "      <td>0.082727</td>\n",
       "      <td>-0.020595</td>\n",
       "    </tr>\n",
       "    <tr>\n",
       "      <th>16221703785943514</th>\n",
       "      <td>1.079409</td>\n",
       "      <td>-1.289207</td>\n",
       "      <td>0.032034</td>\n",
       "      <td>-1.404979</td>\n",
       "      <td>0.899182</td>\n",
       "      <td>0.179987</td>\n",
       "      <td>0.613738</td>\n",
       "      <td>0.332901</td>\n",
       "      <td>-0.189126</td>\n",
       "      <td>0.216958</td>\n",
       "      <td>...</td>\n",
       "      <td>0.105014</td>\n",
       "      <td>0.049927</td>\n",
       "      <td>-0.555613</td>\n",
       "      <td>0.373425</td>\n",
       "      <td>0.023921</td>\n",
       "      <td>-0.348361</td>\n",
       "      <td>-0.161817</td>\n",
       "      <td>-0.088779</td>\n",
       "      <td>-0.096491</td>\n",
       "      <td>0.047944</td>\n",
       "    </tr>\n",
       "    <tr>\n",
       "      <th>23184125582168755</th>\n",
       "      <td>0.640578</td>\n",
       "      <td>0.341507</td>\n",
       "      <td>-0.491820</td>\n",
       "      <td>1.393423</td>\n",
       "      <td>-0.119867</td>\n",
       "      <td>1.901982</td>\n",
       "      <td>-0.646612</td>\n",
       "      <td>-0.937447</td>\n",
       "      <td>-0.635041</td>\n",
       "      <td>0.267789</td>\n",
       "      <td>...</td>\n",
       "      <td>-0.216040</td>\n",
       "      <td>0.222657</td>\n",
       "      <td>0.007174</td>\n",
       "      <td>0.147877</td>\n",
       "      <td>0.065992</td>\n",
       "      <td>-0.058447</td>\n",
       "      <td>0.119141</td>\n",
       "      <td>0.012783</td>\n",
       "      <td>0.075637</td>\n",
       "      <td>0.044501</td>\n",
       "    </tr>\n",
       "    <tr>\n",
       "      <th>23272004138357351</th>\n",
       "      <td>-2.638846</td>\n",
       "      <td>0.579952</td>\n",
       "      <td>-0.874967</td>\n",
       "      <td>0.044859</td>\n",
       "      <td>-0.773818</td>\n",
       "      <td>0.255232</td>\n",
       "      <td>0.189929</td>\n",
       "      <td>-0.117071</td>\n",
       "      <td>-0.028746</td>\n",
       "      <td>0.327853</td>\n",
       "      <td>...</td>\n",
       "      <td>0.020204</td>\n",
       "      <td>-0.015949</td>\n",
       "      <td>0.005241</td>\n",
       "      <td>-0.000359</td>\n",
       "      <td>-0.022696</td>\n",
       "      <td>0.032951</td>\n",
       "      <td>-0.465394</td>\n",
       "      <td>0.145721</td>\n",
       "      <td>0.247518</td>\n",
       "      <td>0.004737</td>\n",
       "    </tr>\n",
       "    <tr>\n",
       "      <th>17804354130069208</th>\n",
       "      <td>-0.561183</td>\n",
       "      <td>0.543986</td>\n",
       "      <td>0.692097</td>\n",
       "      <td>-2.359414</td>\n",
       "      <td>0.444011</td>\n",
       "      <td>0.184647</td>\n",
       "      <td>-0.003125</td>\n",
       "      <td>-0.908948</td>\n",
       "      <td>0.440048</td>\n",
       "      <td>-1.233005</td>\n",
       "      <td>...</td>\n",
       "      <td>0.087059</td>\n",
       "      <td>-0.351251</td>\n",
       "      <td>-0.154111</td>\n",
       "      <td>-0.168031</td>\n",
       "      <td>0.012674</td>\n",
       "      <td>-0.223685</td>\n",
       "      <td>0.424829</td>\n",
       "      <td>-0.277871</td>\n",
       "      <td>-0.665473</td>\n",
       "      <td>-0.036420</td>\n",
       "    </tr>\n",
       "  </tbody>\n",
       "</table>\n",
       "<p>5 rows × 256 columns</p>\n",
       "</div>"
      ],
      "text/plain": [
       "                        0         1         2         3         4         5    \\\n",
       "0                                                                               \n",
       "20156320856149863  1.292196 -1.414736 -0.865697 -0.107149  0.095529 -0.815595   \n",
       "16221703785943514  1.079409 -1.289207  0.032034 -1.404979  0.899182  0.179987   \n",
       "23184125582168755  0.640578  0.341507 -0.491820  1.393423 -0.119867  1.901982   \n",
       "23272004138357351 -2.638846  0.579952 -0.874967  0.044859 -0.773818  0.255232   \n",
       "17804354130069208 -0.561183  0.543986  0.692097 -2.359414  0.444011  0.184647   \n",
       "\n",
       "                        6         7         8         9      ...          246  \\\n",
       "0                                                            ...                \n",
       "20156320856149863  0.629699  0.449353 -1.597152  0.276497    ...     0.047981   \n",
       "16221703785943514  0.613738  0.332901 -0.189126  0.216958    ...     0.105014   \n",
       "23184125582168755 -0.646612 -0.937447 -0.635041  0.267789    ...    -0.216040   \n",
       "23272004138357351  0.189929 -0.117071 -0.028746  0.327853    ...     0.020204   \n",
       "17804354130069208 -0.003125 -0.908948  0.440048 -1.233005    ...     0.087059   \n",
       "\n",
       "                        247       248       249       250       251       252  \\\n",
       "0                                                                               \n",
       "20156320856149863 -0.007549 -0.059181 -0.130107  0.069376 -0.151251  0.146924   \n",
       "16221703785943514  0.049927 -0.555613  0.373425  0.023921 -0.348361 -0.161817   \n",
       "23184125582168755  0.222657  0.007174  0.147877  0.065992 -0.058447  0.119141   \n",
       "23272004138357351 -0.015949  0.005241 -0.000359 -0.022696  0.032951 -0.465394   \n",
       "17804354130069208 -0.351251 -0.154111 -0.168031  0.012674 -0.223685  0.424829   \n",
       "\n",
       "                        253       254       255  \n",
       "0                                                \n",
       "20156320856149863 -0.115643  0.082727 -0.020595  \n",
       "16221703785943514 -0.088779 -0.096491  0.047944  \n",
       "23184125582168755  0.012783  0.075637  0.044501  \n",
       "23272004138357351  0.145721  0.247518  0.004737  \n",
       "17804354130069208 -0.277871 -0.665473 -0.036420  \n",
       "\n",
       "[5 rows x 256 columns]"
      ]
     },
     "execution_count": 42,
     "metadata": {},
     "output_type": "execute_result"
    }
   ],
   "source": [
    "print(pandas.DataFrame(training_transformed).shape)\n",
    "pandas.DataFrame(training_transformed, index=training_features.index).head()"
   ]
  },
  {
   "cell_type": "code",
   "execution_count": 43,
   "metadata": {
    "collapsed": false
   },
   "outputs": [
    {
     "name": "stdout",
     "output_type": "stream",
     "text": [
      "(276164, 256)\n"
     ]
    },
    {
     "data": {
      "text/html": [
       "<div>\n",
       "<table border=\"1\" class=\"dataframe\">\n",
       "  <thead>\n",
       "    <tr style=\"text-align: right;\">\n",
       "      <th></th>\n",
       "      <th>0</th>\n",
       "      <th>1</th>\n",
       "      <th>2</th>\n",
       "      <th>3</th>\n",
       "      <th>4</th>\n",
       "      <th>5</th>\n",
       "      <th>6</th>\n",
       "      <th>7</th>\n",
       "      <th>8</th>\n",
       "      <th>9</th>\n",
       "      <th>...</th>\n",
       "      <th>246</th>\n",
       "      <th>247</th>\n",
       "      <th>248</th>\n",
       "      <th>249</th>\n",
       "      <th>250</th>\n",
       "      <th>251</th>\n",
       "      <th>252</th>\n",
       "      <th>253</th>\n",
       "      <th>254</th>\n",
       "      <th>255</th>\n",
       "    </tr>\n",
       "    <tr>\n",
       "      <th>0</th>\n",
       "      <th></th>\n",
       "      <th></th>\n",
       "      <th></th>\n",
       "      <th></th>\n",
       "      <th></th>\n",
       "      <th></th>\n",
       "      <th></th>\n",
       "      <th></th>\n",
       "      <th></th>\n",
       "      <th></th>\n",
       "      <th></th>\n",
       "      <th></th>\n",
       "      <th></th>\n",
       "      <th></th>\n",
       "      <th></th>\n",
       "      <th></th>\n",
       "      <th></th>\n",
       "      <th></th>\n",
       "      <th></th>\n",
       "      <th></th>\n",
       "      <th></th>\n",
       "    </tr>\n",
       "  </thead>\n",
       "  <tbody>\n",
       "    <tr>\n",
       "      <th>9288284844333351</th>\n",
       "      <td>3.849054</td>\n",
       "      <td>-0.147213</td>\n",
       "      <td>0.303542</td>\n",
       "      <td>-0.009842</td>\n",
       "      <td>-0.422465</td>\n",
       "      <td>-0.565225</td>\n",
       "      <td>0.177899</td>\n",
       "      <td>1.276933</td>\n",
       "      <td>-0.915168</td>\n",
       "      <td>-0.322446</td>\n",
       "      <td>...</td>\n",
       "      <td>-0.207194</td>\n",
       "      <td>0.209830</td>\n",
       "      <td>-0.613508</td>\n",
       "      <td>0.241852</td>\n",
       "      <td>0.102900</td>\n",
       "      <td>-0.404010</td>\n",
       "      <td>-0.098714</td>\n",
       "      <td>-0.001022</td>\n",
       "      <td>0.016137</td>\n",
       "      <td>-0.056288</td>\n",
       "    </tr>\n",
       "    <tr>\n",
       "      <th>20722957809749969</th>\n",
       "      <td>-2.708751</td>\n",
       "      <td>-0.105384</td>\n",
       "      <td>-0.097898</td>\n",
       "      <td>0.413972</td>\n",
       "      <td>-0.095751</td>\n",
       "      <td>-0.784123</td>\n",
       "      <td>0.144042</td>\n",
       "      <td>-0.368362</td>\n",
       "      <td>0.204037</td>\n",
       "      <td>-0.265425</td>\n",
       "      <td>...</td>\n",
       "      <td>0.053330</td>\n",
       "      <td>-0.030823</td>\n",
       "      <td>-0.047515</td>\n",
       "      <td>-0.056143</td>\n",
       "      <td>-0.009126</td>\n",
       "      <td>0.011423</td>\n",
       "      <td>-0.625218</td>\n",
       "      <td>0.143581</td>\n",
       "      <td>0.144589</td>\n",
       "      <td>0.025588</td>\n",
       "    </tr>\n",
       "    <tr>\n",
       "      <th>23207904112410946</th>\n",
       "      <td>-0.693783</td>\n",
       "      <td>-1.007255</td>\n",
       "      <td>-0.192161</td>\n",
       "      <td>0.811852</td>\n",
       "      <td>0.799170</td>\n",
       "      <td>-1.119624</td>\n",
       "      <td>0.680558</td>\n",
       "      <td>-0.121710</td>\n",
       "      <td>-1.010267</td>\n",
       "      <td>-0.364271</td>\n",
       "      <td>...</td>\n",
       "      <td>-0.090982</td>\n",
       "      <td>0.151331</td>\n",
       "      <td>0.030990</td>\n",
       "      <td>0.060757</td>\n",
       "      <td>0.000626</td>\n",
       "      <td>-0.056676</td>\n",
       "      <td>-0.116892</td>\n",
       "      <td>0.061647</td>\n",
       "      <td>-0.099041</td>\n",
       "      <td>-0.027580</td>\n",
       "    </tr>\n",
       "    <tr>\n",
       "      <th>8438939060540919</th>\n",
       "      <td>2.197646</td>\n",
       "      <td>-0.211044</td>\n",
       "      <td>-0.605976</td>\n",
       "      <td>-0.481092</td>\n",
       "      <td>-1.223206</td>\n",
       "      <td>0.322992</td>\n",
       "      <td>0.748968</td>\n",
       "      <td>0.807298</td>\n",
       "      <td>-0.134348</td>\n",
       "      <td>-0.530814</td>\n",
       "      <td>...</td>\n",
       "      <td>0.080648</td>\n",
       "      <td>-0.312088</td>\n",
       "      <td>-0.052590</td>\n",
       "      <td>-0.214522</td>\n",
       "      <td>-0.030994</td>\n",
       "      <td>0.004178</td>\n",
       "      <td>0.201142</td>\n",
       "      <td>0.901881</td>\n",
       "      <td>0.150124</td>\n",
       "      <td>0.038140</td>\n",
       "    </tr>\n",
       "    <tr>\n",
       "      <th>23051156318899201</th>\n",
       "      <td>-3.225811</td>\n",
       "      <td>0.381363</td>\n",
       "      <td>0.292191</td>\n",
       "      <td>0.663757</td>\n",
       "      <td>0.106623</td>\n",
       "      <td>-0.515320</td>\n",
       "      <td>-0.210134</td>\n",
       "      <td>-0.395549</td>\n",
       "      <td>-0.448635</td>\n",
       "      <td>0.656283</td>\n",
       "      <td>...</td>\n",
       "      <td>-0.003453</td>\n",
       "      <td>0.020852</td>\n",
       "      <td>-0.027991</td>\n",
       "      <td>-0.032445</td>\n",
       "      <td>-0.023354</td>\n",
       "      <td>0.015952</td>\n",
       "      <td>-0.299039</td>\n",
       "      <td>0.083732</td>\n",
       "      <td>0.590513</td>\n",
       "      <td>0.011559</td>\n",
       "    </tr>\n",
       "  </tbody>\n",
       "</table>\n",
       "<p>5 rows × 256 columns</p>\n",
       "</div>"
      ],
      "text/plain": [
       "                        0         1         2         3         4         5    \\\n",
       "0                                                                               \n",
       "9288284844333351   3.849054 -0.147213  0.303542 -0.009842 -0.422465 -0.565225   \n",
       "20722957809749969 -2.708751 -0.105384 -0.097898  0.413972 -0.095751 -0.784123   \n",
       "23207904112410946 -0.693783 -1.007255 -0.192161  0.811852  0.799170 -1.119624   \n",
       "8438939060540919   2.197646 -0.211044 -0.605976 -0.481092 -1.223206  0.322992   \n",
       "23051156318899201 -3.225811  0.381363  0.292191  0.663757  0.106623 -0.515320   \n",
       "\n",
       "                        6         7         8         9      ...          246  \\\n",
       "0                                                            ...                \n",
       "9288284844333351   0.177899  1.276933 -0.915168 -0.322446    ...    -0.207194   \n",
       "20722957809749969  0.144042 -0.368362  0.204037 -0.265425    ...     0.053330   \n",
       "23207904112410946  0.680558 -0.121710 -1.010267 -0.364271    ...    -0.090982   \n",
       "8438939060540919   0.748968  0.807298 -0.134348 -0.530814    ...     0.080648   \n",
       "23051156318899201 -0.210134 -0.395549 -0.448635  0.656283    ...    -0.003453   \n",
       "\n",
       "                        247       248       249       250       251       252  \\\n",
       "0                                                                               \n",
       "9288284844333351   0.209830 -0.613508  0.241852  0.102900 -0.404010 -0.098714   \n",
       "20722957809749969 -0.030823 -0.047515 -0.056143 -0.009126  0.011423 -0.625218   \n",
       "23207904112410946  0.151331  0.030990  0.060757  0.000626 -0.056676 -0.116892   \n",
       "8438939060540919  -0.312088 -0.052590 -0.214522 -0.030994  0.004178  0.201142   \n",
       "23051156318899201  0.020852 -0.027991 -0.032445 -0.023354  0.015952 -0.299039   \n",
       "\n",
       "                        253       254       255  \n",
       "0                                                \n",
       "9288284844333351  -0.001022  0.016137 -0.056288  \n",
       "20722957809749969  0.143581  0.144589  0.025588  \n",
       "23207904112410946  0.061647 -0.099041 -0.027580  \n",
       "8438939060540919   0.901881  0.150124  0.038140  \n",
       "23051156318899201  0.083732  0.590513  0.011559  \n",
       "\n",
       "[5 rows x 256 columns]"
      ]
     },
     "execution_count": 43,
     "metadata": {},
     "output_type": "execute_result"
    }
   ],
   "source": [
    "print(pandas.DataFrame(validation_transformed).shape)\n",
    "pandas.DataFrame(validation_transformed, index=validation_features.index).head()"
   ]
  },
  {
   "cell_type": "markdown",
   "metadata": {},
   "source": [
    "### LDA (after PCA)"
   ]
  },
  {
   "cell_type": "code",
   "execution_count": 206,
   "metadata": {
    "collapsed": false
   },
   "outputs": [
    {
     "name": "stdout",
     "output_type": "stream",
     "text": [
      "0.114341141385\n"
     ]
    }
   ],
   "source": [
    "validation_pred = lda.predict(validation_transformed)\n",
    "accuracy = lda.score(validation_transformed,validation_labels)\n",
    "print(accuracy)\n",
    "\n",
    "alg = \"LDApca\"\n",
    "uids = pandas.DataFrame(validation_labels, columns=['true']).join(pandas.DataFrame(validation_pred,columns=['pred'])) \n",
    "counts = uids.groupby(['true','pred']).size().unstack().transpose()\n",
    "c = counts.reset_index(drop=True).transpose().reset_index(drop=True).transpose() \n",
    "distance_error_counts = how_wrong_can_we_classify_user.reset_index(drop=True).transpose().reset_index(drop=True).transpose().multiply(c)\n",
    "distance_error = distance_error_counts.sum().sum()/counts.sum().sum()\n",
    "efficacy_validation.loc['accuracy',alg] = accuracy\n",
    "efficacy_validation.loc['weighted-error',alg] = distance_error"
   ]
  },
  {
   "cell_type": "markdown",
   "metadata": {},
   "source": [
    "### Method: Naive Bayes Gaussian (after PCA)"
   ]
  },
  {
   "cell_type": "code",
   "execution_count": 150,
   "metadata": {
    "collapsed": false
   },
   "outputs": [],
   "source": [
    "nb_gaussian_pca = GaussianNB()\n",
    "nb_gaussian_pca.fit(training_transformed, training_labels)\n",
    "\n",
    "validation_pred = nb_gaussian_pca.predict(validation_transformed)\n",
    "accuracy = nb_gaussian_pca.score(validation_transformed, validation_labels)\n",
    "\n",
    "alg = \"NBgaussian\"\n",
    "uids = pandas.DataFrame(validation_labels, columns=['true']).join(pandas.DataFrame(validation_pred,columns=['pred'])) \n",
    "counts = uids.groupby(['true','pred']).size().unstack().transpose()\n",
    "c = counts.reset_index(drop=True).transpose().reset_index(drop=True).transpose() \n",
    "distance_error_counts = how_wrong_can_we_classify_user.reset_index(drop=True).transpose().reset_index(drop=True).transpose().multiply(c)\n",
    "distance_error = distance_error_counts.sum().sum()/counts.sum().sum()\n",
    "efficacy_validation.loc['accuracy',alg] = accuracy\n",
    "efficacy_validation.loc['weighted-error',alg] = distance_error"
   ]
  },
  {
   "cell_type": "markdown",
   "metadata": {},
   "source": [
    "### Method: Naive Bayes Multinomial (after PCA)\n",
    "\n",
    "Map the real-valued (gaussian) components to positive-integer (multinomial) components, while maintaining their correct probabilities"
   ]
  },
  {
   "cell_type": "code",
   "execution_count": 258,
   "metadata": {
    "collapsed": false
   },
   "outputs": [
    {
     "data": {
      "text/plain": [
       "<matplotlib.text.Text at 0x7f234545cc90>"
      ]
     },
     "execution_count": 258,
     "metadata": {},
     "output_type": "execute_result"
    },
    {
     "data": {
      "image/png": "[encoded data removed]",
      "text/plain": [
       "<matplotlib.figure.Figure at 0x7f23c8f85c50>"
      ]
     },
     "metadata": {},
     "output_type": "display_data"
    },
    {
     "data": {
      "image/png": "[encoded data removed]",
      "text/plain": [
       "<matplotlib.figure.Figure at 0x7f2294841650>"
      ]
     },
     "metadata": {},
     "output_type": "display_data"
    }
   ],
   "source": [
    "f = pandas.DataFrame(training_transformed)[0]\n",
    "plt.hist(f, bins=1000, normed=True);\n",
    "plt.xlabel('1st projected component')\n",
    "plt.ylabel('pdf(x)')\n",
    "plt.title('Gaussian')\n",
    "\n",
    "gamma = 1000./numpy.var(f)\n",
    "fmin = numpy.min(f)\n",
    "z = numpy.floor((f-fmin)*gamma)\n",
    "plt.figure()\n",
    "plt.hist(z, bins=numpy.arange(numpy.max(z)), normed=True);\n",
    "plt.xlabel('1st projected component')\n",
    "plt.ylabel('pmf(z)')\n",
    "plt.title('Multinomial')"
   ]
  },
  {
   "cell_type": "code",
   "execution_count": 38,
   "metadata": {
    "collapsed": false
   },
   "outputs": [
    {
     "name": "stdout",
     "output_type": "stream",
     "text": [
      "Minimum value of each projected component sorted descending:\n"
     ]
    },
    {
     "data": {
      "text/plain": [
       "255   -0.372968\n",
       "253   -0.725135\n",
       "251   -0.808249\n",
       "252   -0.928738\n",
       "254   -0.943782\n",
       "248   -1.150766\n",
       "235   -1.173624\n",
       "246   -1.188375\n",
       "249   -1.194732\n",
       "236   -1.204279\n",
       "dtype: float64"
      ]
     },
     "metadata": {},
     "output_type": "display_data"
    },
    {
     "name": "stdout",
     "output_type": "stream",
     "text": [
      "Variance of each projected component sorted descending:\n"
     ]
    },
    {
     "data": {
      "text/plain": [
       "0    7.546691\n",
       "1    0.867504\n",
       "2    0.635634\n",
       "3    0.539353\n",
       "4    0.507489\n",
       "5    0.454196\n",
       "6    0.421450\n",
       "7    0.407392\n",
       "8    0.364975\n",
       "9    0.314452\n",
       "dtype: float64"
      ]
     },
     "metadata": {},
     "output_type": "display_data"
    }
   ],
   "source": [
    "training_z = pandas.DataFrame(training_transformed, index=training_features.index).apply(lambda x: numpy.floor((x-x.min())*(1000./x.var()))) \n",
    "validation_z = pandas.DataFrame(validation_transformed, index=validation_features.index).apply(lambda x: numpy.floor((x-x.min())*(1000./x.var()))) \n",
    "\n",
    "xmin = pandas.DataFrame(training_transformed).apply(lambda x: x.min())\n",
    "print('Minimum value of each projected component sorted descending:')\n",
    "display(xmin.sort_values(ascending=False)[:10])\n",
    "\n",
    "xvar = pandas.DataFrame(training_transformed).apply(lambda x: x.var())\n",
    "print('Variance of each projected component sorted descending:')\n",
    "display(xvar.sort_values(ascending=False)[:10])"
   ]
  },
  {
   "cell_type": "code",
   "execution_count": 44,
   "metadata": {
    "collapsed": false,
    "scrolled": true
   },
   "outputs": [
    {
     "data": {
      "text/html": [
       "<div>\n",
       "<table border=\"1\" class=\"dataframe\">\n",
       "  <thead>\n",
       "    <tr style=\"text-align: right;\">\n",
       "      <th></th>\n",
       "      <th>0</th>\n",
       "      <th>1</th>\n",
       "      <th>2</th>\n",
       "      <th>3</th>\n",
       "      <th>4</th>\n",
       "      <th>5</th>\n",
       "      <th>6</th>\n",
       "      <th>7</th>\n",
       "      <th>8</th>\n",
       "      <th>9</th>\n",
       "      <th>...</th>\n",
       "      <th>246</th>\n",
       "      <th>247</th>\n",
       "      <th>248</th>\n",
       "      <th>249</th>\n",
       "      <th>250</th>\n",
       "      <th>251</th>\n",
       "      <th>252</th>\n",
       "      <th>253</th>\n",
       "      <th>254</th>\n",
       "      <th>255</th>\n",
       "    </tr>\n",
       "    <tr>\n",
       "      <th>0</th>\n",
       "      <th></th>\n",
       "      <th></th>\n",
       "      <th></th>\n",
       "      <th></th>\n",
       "      <th></th>\n",
       "      <th></th>\n",
       "      <th></th>\n",
       "      <th></th>\n",
       "      <th></th>\n",
       "      <th></th>\n",
       "      <th></th>\n",
       "      <th></th>\n",
       "      <th></th>\n",
       "      <th></th>\n",
       "      <th></th>\n",
       "      <th></th>\n",
       "      <th></th>\n",
       "      <th></th>\n",
       "      <th></th>\n",
       "      <th></th>\n",
       "      <th></th>\n",
       "    </tr>\n",
       "  </thead>\n",
       "  <tbody>\n",
       "    <tr>\n",
       "      <th>20156320856149863</th>\n",
       "      <td>663.0</td>\n",
       "      <td>1710.0</td>\n",
       "      <td>2730.0</td>\n",
       "      <td>5112.0</td>\n",
       "      <td>5803.0</td>\n",
       "      <td>3938.0</td>\n",
       "      <td>8169.0</td>\n",
       "      <td>6796.0</td>\n",
       "      <td>2426.0</td>\n",
       "      <td>8243.0</td>\n",
       "      <td>...</td>\n",
       "      <td>24201.0</td>\n",
       "      <td>23875.0</td>\n",
       "      <td>22049.0</td>\n",
       "      <td>21789.0</td>\n",
       "      <td>27420.0</td>\n",
       "      <td>14257.0</td>\n",
       "      <td>24984.0</td>\n",
       "      <td>14282.0</td>\n",
       "      <td>31291.0</td>\n",
       "      <td>34593.0</td>\n",
       "    </tr>\n",
       "    <tr>\n",
       "      <th>16221703785943514</th>\n",
       "      <td>635.0</td>\n",
       "      <td>1855.0</td>\n",
       "      <td>4143.0</td>\n",
       "      <td>2705.0</td>\n",
       "      <td>7386.0</td>\n",
       "      <td>6130.0</td>\n",
       "      <td>8131.0</td>\n",
       "      <td>6511.0</td>\n",
       "      <td>6283.0</td>\n",
       "      <td>8053.0</td>\n",
       "      <td>...</td>\n",
       "      <td>25317.0</td>\n",
       "      <td>25013.0</td>\n",
       "      <td>12021.0</td>\n",
       "      <td>32095.0</td>\n",
       "      <td>26467.0</td>\n",
       "      <td>9980.0</td>\n",
       "      <td>17813.0</td>\n",
       "      <td>14912.0</td>\n",
       "      <td>25828.0</td>\n",
       "      <td>41321.0</td>\n",
       "    </tr>\n",
       "    <tr>\n",
       "      <th>23184125582168755</th>\n",
       "      <td>577.0</td>\n",
       "      <td>3735.0</td>\n",
       "      <td>3318.0</td>\n",
       "      <td>7894.0</td>\n",
       "      <td>5378.0</td>\n",
       "      <td>9922.0</td>\n",
       "      <td>5141.0</td>\n",
       "      <td>3392.0</td>\n",
       "      <td>5062.0</td>\n",
       "      <td>8215.0</td>\n",
       "      <td>...</td>\n",
       "      <td>19033.0</td>\n",
       "      <td>28433.0</td>\n",
       "      <td>23389.0</td>\n",
       "      <td>27479.0</td>\n",
       "      <td>27349.0</td>\n",
       "      <td>16271.0</td>\n",
       "      <td>24339.0</td>\n",
       "      <td>17292.0</td>\n",
       "      <td>31075.0</td>\n",
       "      <td>40983.0</td>\n",
       "    </tr>\n",
       "    <tr>\n",
       "      <th>23272004138357351</th>\n",
       "      <td>142.0</td>\n",
       "      <td>4010.0</td>\n",
       "      <td>2716.0</td>\n",
       "      <td>5393.0</td>\n",
       "      <td>4090.0</td>\n",
       "      <td>6296.0</td>\n",
       "      <td>7126.0</td>\n",
       "      <td>5406.0</td>\n",
       "      <td>6723.0</td>\n",
       "      <td>8406.0</td>\n",
       "      <td>...</td>\n",
       "      <td>23657.0</td>\n",
       "      <td>23709.0</td>\n",
       "      <td>23350.0</td>\n",
       "      <td>24445.0</td>\n",
       "      <td>25489.0</td>\n",
       "      <td>18255.0</td>\n",
       "      <td>10762.0</td>\n",
       "      <td>20407.0</td>\n",
       "      <td>36315.0</td>\n",
       "      <td>37080.0</td>\n",
       "    </tr>\n",
       "    <tr>\n",
       "      <th>17804354130069208</th>\n",
       "      <td>417.0</td>\n",
       "      <td>3968.0</td>\n",
       "      <td>5181.0</td>\n",
       "      <td>936.0</td>\n",
       "      <td>6489.0</td>\n",
       "      <td>6140.0</td>\n",
       "      <td>6668.0</td>\n",
       "      <td>3462.0</td>\n",
       "      <td>8007.0</td>\n",
       "      <td>3442.0</td>\n",
       "      <td>...</td>\n",
       "      <td>24966.0</td>\n",
       "      <td>17071.0</td>\n",
       "      <td>20131.0</td>\n",
       "      <td>21013.0</td>\n",
       "      <td>26231.0</td>\n",
       "      <td>12685.0</td>\n",
       "      <td>31439.0</td>\n",
       "      <td>10481.0</td>\n",
       "      <td>8483.0</td>\n",
       "      <td>33039.0</td>\n",
       "    </tr>\n",
       "  </tbody>\n",
       "</table>\n",
       "<p>5 rows × 256 columns</p>\n",
       "</div>"
      ],
      "text/plain": [
       "                     0       1       2       3       4       5       6    \\\n",
       "0                                                                          \n",
       "20156320856149863  663.0  1710.0  2730.0  5112.0  5803.0  3938.0  8169.0   \n",
       "16221703785943514  635.0  1855.0  4143.0  2705.0  7386.0  6130.0  8131.0   \n",
       "23184125582168755  577.0  3735.0  3318.0  7894.0  5378.0  9922.0  5141.0   \n",
       "23272004138357351  142.0  4010.0  2716.0  5393.0  4090.0  6296.0  7126.0   \n",
       "17804354130069208  417.0  3968.0  5181.0   936.0  6489.0  6140.0  6668.0   \n",
       "\n",
       "                      7       8       9     ...         246      247      248  \\\n",
       "0                                           ...                                 \n",
       "20156320856149863  6796.0  2426.0  8243.0   ...     24201.0  23875.0  22049.0   \n",
       "16221703785943514  6511.0  6283.0  8053.0   ...     25317.0  25013.0  12021.0   \n",
       "23184125582168755  3392.0  5062.0  8215.0   ...     19033.0  28433.0  23389.0   \n",
       "23272004138357351  5406.0  6723.0  8406.0   ...     23657.0  23709.0  23350.0   \n",
       "17804354130069208  3462.0  8007.0  3442.0   ...     24966.0  17071.0  20131.0   \n",
       "\n",
       "                       249      250      251      252      253      254  \\\n",
       "0                                                                         \n",
       "20156320856149863  21789.0  27420.0  14257.0  24984.0  14282.0  31291.0   \n",
       "16221703785943514  32095.0  26467.0   9980.0  17813.0  14912.0  25828.0   \n",
       "23184125582168755  27479.0  27349.0  16271.0  24339.0  17292.0  31075.0   \n",
       "23272004138357351  24445.0  25489.0  18255.0  10762.0  20407.0  36315.0   \n",
       "17804354130069208  21013.0  26231.0  12685.0  31439.0  10481.0   8483.0   \n",
       "\n",
       "                       255  \n",
       "0                           \n",
       "20156320856149863  34593.0  \n",
       "16221703785943514  41321.0  \n",
       "23184125582168755  40983.0  \n",
       "23272004138357351  37080.0  \n",
       "17804354130069208  33039.0  \n",
       "\n",
       "[5 rows x 256 columns]"
      ]
     },
     "execution_count": 44,
     "metadata": {},
     "output_type": "execute_result"
    }
   ],
   "source": [
    "training_z.head()"
   ]
  },
  {
   "cell_type": "code",
   "execution_count": 45,
   "metadata": {
    "collapsed": false
   },
   "outputs": [
    {
     "data": {
      "text/html": [
       "<div>\n",
       "<table border=\"1\" class=\"dataframe\">\n",
       "  <thead>\n",
       "    <tr style=\"text-align: right;\">\n",
       "      <th></th>\n",
       "      <th>0</th>\n",
       "      <th>1</th>\n",
       "      <th>2</th>\n",
       "      <th>3</th>\n",
       "      <th>4</th>\n",
       "      <th>5</th>\n",
       "      <th>6</th>\n",
       "      <th>7</th>\n",
       "      <th>8</th>\n",
       "      <th>9</th>\n",
       "      <th>...</th>\n",
       "      <th>246</th>\n",
       "      <th>247</th>\n",
       "      <th>248</th>\n",
       "      <th>249</th>\n",
       "      <th>250</th>\n",
       "      <th>251</th>\n",
       "      <th>252</th>\n",
       "      <th>253</th>\n",
       "      <th>254</th>\n",
       "      <th>255</th>\n",
       "    </tr>\n",
       "    <tr>\n",
       "      <th>0</th>\n",
       "      <th></th>\n",
       "      <th></th>\n",
       "      <th></th>\n",
       "      <th></th>\n",
       "      <th></th>\n",
       "      <th></th>\n",
       "      <th></th>\n",
       "      <th></th>\n",
       "      <th></th>\n",
       "      <th></th>\n",
       "      <th></th>\n",
       "      <th></th>\n",
       "      <th></th>\n",
       "      <th></th>\n",
       "      <th></th>\n",
       "      <th></th>\n",
       "      <th></th>\n",
       "      <th></th>\n",
       "      <th></th>\n",
       "      <th></th>\n",
       "      <th></th>\n",
       "    </tr>\n",
       "  </thead>\n",
       "  <tbody>\n",
       "    <tr>\n",
       "      <th>9288284844333351</th>\n",
       "      <td>1003.0</td>\n",
       "      <td>3170.0</td>\n",
       "      <td>4629.0</td>\n",
       "      <td>4852.0</td>\n",
       "      <td>4879.0</td>\n",
       "      <td>4501.0</td>\n",
       "      <td>7173.0</td>\n",
       "      <td>9062.0</td>\n",
       "      <td>5065.0</td>\n",
       "      <td>6663.0</td>\n",
       "      <td>...</td>\n",
       "      <td>20829.0</td>\n",
       "      <td>29957.0</td>\n",
       "      <td>10267.0</td>\n",
       "      <td>32161.0</td>\n",
       "      <td>23875.0</td>\n",
       "      <td>11274.0</td>\n",
       "      <td>20311.0</td>\n",
       "      <td>16611.0</td>\n",
       "      <td>30284.0</td>\n",
       "      <td>32940.0</td>\n",
       "    </tr>\n",
       "    <tr>\n",
       "      <th>20722957809749969</th>\n",
       "      <td>133.0</td>\n",
       "      <td>3219.0</td>\n",
       "      <td>3997.0</td>\n",
       "      <td>5636.0</td>\n",
       "      <td>5524.0</td>\n",
       "      <td>4019.0</td>\n",
       "      <td>7093.0</td>\n",
       "      <td>5009.0</td>\n",
       "      <td>8118.0</td>\n",
       "      <td>6843.0</td>\n",
       "      <td>...</td>\n",
       "      <td>25825.0</td>\n",
       "      <td>25259.0</td>\n",
       "      <td>21567.0</td>\n",
       "      <td>26184.0</td>\n",
       "      <td>21557.0</td>\n",
       "      <td>20224.0</td>\n",
       "      <td>8124.0</td>\n",
       "      <td>19956.0</td>\n",
       "      <td>34195.0</td>\n",
       "      <td>40838.0</td>\n",
       "    </tr>\n",
       "    <tr>\n",
       "      <th>23207904112410946</th>\n",
       "      <td>400.0</td>\n",
       "      <td>2180.0</td>\n",
       "      <td>3849.0</td>\n",
       "      <td>6373.0</td>\n",
       "      <td>7290.0</td>\n",
       "      <td>3279.0</td>\n",
       "      <td>8364.0</td>\n",
       "      <td>5616.0</td>\n",
       "      <td>4806.0</td>\n",
       "      <td>6530.0</td>\n",
       "      <td>...</td>\n",
       "      <td>23058.0</td>\n",
       "      <td>28815.0</td>\n",
       "      <td>23135.0</td>\n",
       "      <td>28529.0</td>\n",
       "      <td>21758.0</td>\n",
       "      <td>18757.0</td>\n",
       "      <td>19890.0</td>\n",
       "      <td>18061.0</td>\n",
       "      <td>26777.0</td>\n",
       "      <td>35709.0</td>\n",
       "    </tr>\n",
       "    <tr>\n",
       "      <th>8438939060540919</th>\n",
       "      <td>784.0</td>\n",
       "      <td>3097.0</td>\n",
       "      <td>3198.0</td>\n",
       "      <td>3980.0</td>\n",
       "      <td>3299.0</td>\n",
       "      <td>6460.0</td>\n",
       "      <td>8526.0</td>\n",
       "      <td>7905.0</td>\n",
       "      <td>7195.0</td>\n",
       "      <td>6002.0</td>\n",
       "      <td>...</td>\n",
       "      <td>26349.0</td>\n",
       "      <td>19767.0</td>\n",
       "      <td>21466.0</td>\n",
       "      <td>23008.0</td>\n",
       "      <td>21104.0</td>\n",
       "      <td>20068.0</td>\n",
       "      <td>27251.0</td>\n",
       "      <td>37493.0</td>\n",
       "      <td>34363.0</td>\n",
       "      <td>42049.0</td>\n",
       "    </tr>\n",
       "    <tr>\n",
       "      <th>23051156318899201</th>\n",
       "      <td>64.0</td>\n",
       "      <td>3779.0</td>\n",
       "      <td>4611.0</td>\n",
       "      <td>6099.0</td>\n",
       "      <td>5923.0</td>\n",
       "      <td>4611.0</td>\n",
       "      <td>6253.0</td>\n",
       "      <td>4942.0</td>\n",
       "      <td>6337.0</td>\n",
       "      <td>9766.0</td>\n",
       "      <td>...</td>\n",
       "      <td>24736.0</td>\n",
       "      <td>26267.0</td>\n",
       "      <td>21957.0</td>\n",
       "      <td>26660.0</td>\n",
       "      <td>21262.0</td>\n",
       "      <td>20322.0</td>\n",
       "      <td>15674.0</td>\n",
       "      <td>18572.0</td>\n",
       "      <td>47771.0</td>\n",
       "      <td>39485.0</td>\n",
       "    </tr>\n",
       "  </tbody>\n",
       "</table>\n",
       "<p>5 rows × 256 columns</p>\n",
       "</div>"
      ],
      "text/plain": [
       "                      0       1       2       3       4       5       6    \\\n",
       "0                                                                           \n",
       "9288284844333351   1003.0  3170.0  4629.0  4852.0  4879.0  4501.0  7173.0   \n",
       "20722957809749969   133.0  3219.0  3997.0  5636.0  5524.0  4019.0  7093.0   \n",
       "23207904112410946   400.0  2180.0  3849.0  6373.0  7290.0  3279.0  8364.0   \n",
       "8438939060540919    784.0  3097.0  3198.0  3980.0  3299.0  6460.0  8526.0   \n",
       "23051156318899201    64.0  3779.0  4611.0  6099.0  5923.0  4611.0  6253.0   \n",
       "\n",
       "                      7       8       9     ...         246      247      248  \\\n",
       "0                                           ...                                 \n",
       "9288284844333351   9062.0  5065.0  6663.0   ...     20829.0  29957.0  10267.0   \n",
       "20722957809749969  5009.0  8118.0  6843.0   ...     25825.0  25259.0  21567.0   \n",
       "23207904112410946  5616.0  4806.0  6530.0   ...     23058.0  28815.0  23135.0   \n",
       "8438939060540919   7905.0  7195.0  6002.0   ...     26349.0  19767.0  21466.0   \n",
       "23051156318899201  4942.0  6337.0  9766.0   ...     24736.0  26267.0  21957.0   \n",
       "\n",
       "                       249      250      251      252      253      254  \\\n",
       "0                                                                         \n",
       "9288284844333351   32161.0  23875.0  11274.0  20311.0  16611.0  30284.0   \n",
       "20722957809749969  26184.0  21557.0  20224.0   8124.0  19956.0  34195.0   \n",
       "23207904112410946  28529.0  21758.0  18757.0  19890.0  18061.0  26777.0   \n",
       "8438939060540919   23008.0  21104.0  20068.0  27251.0  37493.0  34363.0   \n",
       "23051156318899201  26660.0  21262.0  20322.0  15674.0  18572.0  47771.0   \n",
       "\n",
       "                       255  \n",
       "0                           \n",
       "9288284844333351   32940.0  \n",
       "20722957809749969  40838.0  \n",
       "23207904112410946  35709.0  \n",
       "8438939060540919   42049.0  \n",
       "23051156318899201  39485.0  \n",
       "\n",
       "[5 rows x 256 columns]"
      ]
     },
     "execution_count": 45,
     "metadata": {},
     "output_type": "execute_result"
    }
   ],
   "source": [
    "validation_z.head()"
   ]
  },
  {
   "cell_type": "code",
   "execution_count": 358,
   "metadata": {
    "collapsed": false
   },
   "outputs": [
    {
     "name": "stdout",
     "output_type": "stream",
     "text": [
      "0.475673874944\n"
     ]
    }
   ],
   "source": [
    "nb_multinomial_pca = MultinomialNB()\n",
    "nb_multinomial_pca.fit(training_z, training_labels)\n",
    "\n",
    "validation_pred = nb_multinomial_pca.predict(validation_z)\n",
    "accuracy = nb_multinomial_pca.score(validation_z, validation_labels)\n",
    "print(accuracy)\n",
    "\n",
    "alg = \"NBmultinomial\"\n",
    "uids = pandas.DataFrame(validation_labels).rename(columns={1:'true'}).join( pandas.DataFrame(validation_pred, index=validation.index, columns=['pred']) ) \n",
    "counts = uids.groupby(['true','pred']).size().unstack().transpose()\n",
    "c = counts.reset_index(drop=True).transpose().reset_index(drop=True).transpose() \n",
    "distance_error_counts = how_wrong_can_we_classify_user.reset_index(drop=True).transpose().reset_index(drop=True).transpose().multiply(c)\n",
    "distance_error = distance_error_counts.sum().sum()/counts.sum().sum()\n",
    "efficacy_validation.loc['accuracy',alg] = accuracy\n",
    "efficacy_validation.loc['weighted-error',alg] = distance_error"
   ]
  },
  {
   "cell_type": "code",
   "execution_count": 288,
   "metadata": {
    "collapsed": false
   },
   "outputs": [
    {
     "name": "stdout",
     "output_type": "stream",
     "text": [
      "Validation class predictions:\n"
     ]
    },
    {
     "data": {
      "text/html": [
       "<div>\n",
       "<table border=\"1\" class=\"dataframe\">\n",
       "  <thead>\n",
       "    <tr style=\"text-align: right;\">\n",
       "      <th></th>\n",
       "      <th>0</th>\n",
       "    </tr>\n",
       "    <tr>\n",
       "      <th>0</th>\n",
       "      <th></th>\n",
       "    </tr>\n",
       "  </thead>\n",
       "  <tbody>\n",
       "    <tr>\n",
       "      <th>15740002770882921</th>\n",
       "      <td>672</td>\n",
       "    </tr>\n",
       "    <tr>\n",
       "      <th>20076326138989514</th>\n",
       "      <td>672</td>\n",
       "    </tr>\n",
       "    <tr>\n",
       "      <th>13832899909391491</th>\n",
       "      <td>672</td>\n",
       "    </tr>\n",
       "    <tr>\n",
       "      <th>23061239623893428</th>\n",
       "      <td>672</td>\n",
       "    </tr>\n",
       "    <tr>\n",
       "      <th>19447249592914859</th>\n",
       "      <td>680</td>\n",
       "    </tr>\n",
       "  </tbody>\n",
       "</table>\n",
       "</div>"
      ],
      "text/plain": [
       "                     0\n",
       "0                     \n",
       "15740002770882921  672\n",
       "20076326138989514  672\n",
       "13832899909391491  672\n",
       "23061239623893428  672\n",
       "19447249592914859  680"
      ]
     },
     "execution_count": 288,
     "metadata": {},
     "output_type": "execute_result"
    }
   ],
   "source": [
    "print(\"Validation class predictions:\")\n",
    "pandas.DataFrame(validation_pred, index=validation_features.index).head()"
   ]
  },
  {
   "cell_type": "code",
   "execution_count": 289,
   "metadata": {
    "collapsed": false
   },
   "outputs": [
    {
     "data": {
      "text/plain": [
       "0.46995621030652784"
      ]
     },
     "execution_count": 289,
     "metadata": {},
     "output_type": "execute_result"
    }
   ],
   "source": [
    "accuracy"
   ]
  },
  {
   "cell_type": "markdown",
   "metadata": {},
   "source": [
    "# Out-of-Sample"
   ]
  },
  {
   "cell_type": "markdown",
   "metadata": {},
   "source": [
    "### Method: Naive Bayes Bernoulli (no PCA)"
   ]
  },
  {
   "cell_type": "code",
   "execution_count": 183,
   "metadata": {
    "collapsed": false
   },
   "outputs": [
    {
     "name": "stdout",
     "output_type": "stream",
     "text": [
      "0.119727706385\n"
     ]
    }
   ],
   "source": [
    "oos_pred = nb_bernoulli.predict(oos_features)\n",
    "accuracy = nb_bernoulli.score(oos_features, oos_labels)\n",
    "print(accuracy)\n",
    "\n",
    "alg = \"NBbernoulli\"\n",
    "uids = pandas.DataFrame(oos_labels, columns=['true']).join(pandas.DataFrame(oos_pred,columns=['pred'])) \n",
    "counts = uids.groupby(['true','pred']).size().unstack().transpose()\n",
    "c = counts.reset_index(drop=True).transpose().reset_index(drop=True).transpose() \n",
    "distance_error_counts = how_wrong_can_we_classify_user.reset_index(drop=True).transpose().reset_index(drop=True).transpose().multiply(c)\n",
    "distance_error = distance_error_counts.sum().sum()/counts.sum().sum()\n",
    "efficacy_oos.loc['accuracy',alg] = accuracy\n",
    "efficacy_oos.loc['weighted-error',alg] = distance_error"
   ]
  },
  {
   "cell_type": "markdown",
   "metadata": {},
   "source": [
    "### Method: Linear Discriminant Analysis (no PCA)"
   ]
  },
  {
   "cell_type": "code",
   "execution_count": 185,
   "metadata": {
    "collapsed": false
   },
   "outputs": [
    {
     "name": "stdout",
     "output_type": "stream",
     "text": [
      "0.12776749792\n"
     ]
    }
   ],
   "source": [
    "oos_pred = lda.predict(oos_features)\n",
    "accuracy = lda.score(oos_features,oos_labels)\n",
    "print(accuracy)\n",
    "\n",
    "alg = \"LDA\"\n",
    "uids = pandas.DataFrame(oos_labels, columns=['true']).join(pandas.DataFrame(oos_pred,columns=['pred'])) \n",
    "counts = uids.groupby(['true','pred']).size().unstack().transpose()\n",
    "c = counts.reset_index(drop=True).transpose().reset_index(drop=True).transpose() \n",
    "distance_error_counts = how_wrong_can_we_classify_user.reset_index(drop=True).transpose().reset_index(drop=True).transpose().multiply(c)\n",
    "distance_error = distance_error_counts.sum().sum()/counts.sum().sum()\n",
    "efficacy_oos.loc['accuracy',alg] = accuracy\n",
    "efficacy_oos.loc['weighted-error',alg] = distance_error"
   ]
  },
  {
   "cell_type": "markdown",
   "metadata": {},
   "source": [
    "### Method: Linear Discriminant Analysis (after PCA)"
   ]
  },
  {
   "cell_type": "code",
   "execution_count": 203,
   "metadata": {
    "collapsed": false
   },
   "outputs": [
    {
     "name": "stdout",
     "output_type": "stream",
     "text": [
      "0.0937070297248\n"
     ]
    }
   ],
   "source": [
    "oos_pred = lda.predict(oos_transformed)\n",
    "accuracy = lda.score(oos_transformed,oos_labels)\n",
    "print(accuracy)\n",
    "\n",
    "alg = \"LDApca\"\n",
    "uids = pandas.DataFrame(oos_labels, columns=['true']).join(pandas.DataFrame(oos_pred,columns=['pred'])) \n",
    "counts = uids.groupby(['true','pred']).size().unstack().transpose()\n",
    "c = counts.reset_index(drop=True).transpose().reset_index(drop=True).transpose() \n",
    "distance_error_counts = how_wrong_can_we_classify_user.reset_index(drop=True).transpose().reset_index(drop=True).transpose().multiply(c)\n",
    "distance_error = distance_error_counts.sum().sum()/counts.sum().sum()\n",
    "efficacy_oos.loc['accuracy',alg] = accuracy\n",
    "efficacy_oos.loc['weighted-error',alg] = distance_error"
   ]
  },
  {
   "cell_type": "markdown",
   "metadata": {},
   "source": [
    "### Method: Naive Bayes Gaussian (after PCA)"
   ]
  },
  {
   "cell_type": "code",
   "execution_count": 187,
   "metadata": {
    "collapsed": false
   },
   "outputs": [
    {
     "name": "stdout",
     "output_type": "stream",
     "text": [
      "0.0937070297248\n"
     ]
    }
   ],
   "source": [
    "oos_transformed = pca.transform(oos_features)\n",
    "oos_pred = lda.predict(oos_transformed)\n",
    "accuracy = lda.score(oos_transformed,oos_labels)\n",
    "print(accuracy)\n",
    "\n",
    "alg = \"NBgaussian\"\n",
    "uids = pandas.DataFrame(oos_labels, columns=['true']).join(pandas.DataFrame(oos_pred,columns=['pred'])) \n",
    "counts = uids.groupby(['true','pred']).size().unstack().transpose()\n",
    "c = counts.reset_index(drop=True).transpose().reset_index(drop=True).transpose() \n",
    "distance_error_counts = how_wrong_can_we_classify_user.reset_index(drop=True).transpose().reset_index(drop=True).transpose().multiply(c)\n",
    "distance_error = distance_error_counts.sum().sum()/counts.sum().sum()\n",
    "efficacy_oos.loc['accuracy',alg] = accuracy\n",
    "efficacy_oos.loc['weighted-error',alg] = distance_error"
   ]
  },
  {
   "cell_type": "markdown",
   "metadata": {},
   "source": [
    "### Method: Naive Bayes Multinomial (after PCA)"
   ]
  },
  {
   "cell_type": "code",
   "execution_count": 189,
   "metadata": {
    "collapsed": false
   },
   "outputs": [
    {
     "name": "stdout",
     "output_type": "stream",
     "text": [
      "0.0772132344204\n"
     ]
    }
   ],
   "source": [
    "oos_z = pandas.DataFrame(oos_transformed).apply(lambda x: numpy.floor((x-x.min())*(1000./x.var()))) \n",
    "oos_pred = nb_multinomial_pca.predict(oos_z)\n",
    "accuracy = nb_multinomial_pca.score(oos_z, oos_labels)\n",
    "print(accuracy)\n",
    "\n",
    "alg = \"NBmultinomial\"\n",
    "uids = pandas.DataFrame(oos_labels, columns=['true']).join(pandas.DataFrame(oos_pred,columns=['pred'])) \n",
    "counts = uids.groupby(['true','pred']).size().unstack().transpose()\n",
    "c = counts.reset_index(drop=True).transpose().reset_index(drop=True).transpose() \n",
    "distance_error_counts = how_wrong_can_we_classify_user.reset_index(drop=True).transpose().reset_index(drop=True).transpose().multiply(c)\n",
    "distance_error = distance_error_counts.sum().sum()/counts.sum().sum()\n",
    "efficacy_oos.loc['accuracy',alg] = accuracy\n",
    "efficacy_oos.loc['weighted-error',alg] = distance_error"
   ]
  },
  {
   "cell_type": "markdown",
   "metadata": {},
   "source": [
    "# Efficacy Tables"
   ]
  },
  {
   "cell_type": "code",
   "execution_count": 207,
   "metadata": {
    "collapsed": false
   },
   "outputs": [
    {
     "name": "stdout",
     "output_type": "stream",
     "text": [
      "efficacy_validation\n"
     ]
    },
    {
     "data": {
      "text/html": [
       "<div>\n",
       "<table border=\"1\" class=\"dataframe\">\n",
       "  <thead>\n",
       "    <tr style=\"text-align: right;\">\n",
       "      <th></th>\n",
       "      <th>NBbernoulli</th>\n",
       "      <th>LDA</th>\n",
       "      <th>NBgaussian</th>\n",
       "      <th>NBmultinomial</th>\n",
       "      <th>LDApca</th>\n",
       "    </tr>\n",
       "  </thead>\n",
       "  <tbody>\n",
       "    <tr>\n",
       "      <th>accuracy</th>\n",
       "      <td>0.290439</td>\n",
       "      <td>0.489363</td>\n",
       "      <td>0.262479</td>\n",
       "      <td>0.469088</td>\n",
       "      <td>0.114341</td>\n",
       "    </tr>\n",
       "    <tr>\n",
       "      <th>weighted-error</th>\n",
       "      <td>0.328481</td>\n",
       "      <td>0.196670</td>\n",
       "      <td>0.358640</td>\n",
       "      <td>0.202382</td>\n",
       "      <td>0.444431</td>\n",
       "    </tr>\n",
       "  </tbody>\n",
       "</table>\n",
       "</div>"
      ],
      "text/plain": [
       "                NBbernoulli       LDA  NBgaussian  NBmultinomial    LDApca\n",
       "accuracy           0.290439  0.489363    0.262479       0.469088  0.114341\n",
       "weighted-error     0.328481  0.196670    0.358640       0.202382  0.444431"
      ]
     },
     "metadata": {},
     "output_type": "display_data"
    },
    {
     "name": "stdout",
     "output_type": "stream",
     "text": [
      "efficacy_oos\n"
     ]
    },
    {
     "data": {
      "text/html": [
       "<div>\n",
       "<table border=\"1\" class=\"dataframe\">\n",
       "  <thead>\n",
       "    <tr style=\"text-align: right;\">\n",
       "      <th></th>\n",
       "      <th>NBbernoulli</th>\n",
       "      <th>LDA</th>\n",
       "      <th>NBgaussian</th>\n",
       "      <th>NBmultinomial</th>\n",
       "      <th>LDApca</th>\n",
       "    </tr>\n",
       "  </thead>\n",
       "  <tbody>\n",
       "    <tr>\n",
       "      <th>accuracy</th>\n",
       "      <td>0.119728</td>\n",
       "      <td>0.127767</td>\n",
       "      <td>0.093707</td>\n",
       "      <td>0.077213</td>\n",
       "      <td>0.093707</td>\n",
       "    </tr>\n",
       "    <tr>\n",
       "      <th>weighted-error</th>\n",
       "      <td>0.467571</td>\n",
       "      <td>0.450206</td>\n",
       "      <td>0.434996</td>\n",
       "      <td>0.693844</td>\n",
       "      <td>0.434996</td>\n",
       "    </tr>\n",
       "  </tbody>\n",
       "</table>\n",
       "</div>"
      ],
      "text/plain": [
       "                NBbernoulli       LDA  NBgaussian  NBmultinomial    LDApca\n",
       "accuracy           0.119728  0.127767    0.093707       0.077213  0.093707\n",
       "weighted-error     0.467571  0.450206    0.434996       0.693844  0.434996"
      ]
     },
     "metadata": {},
     "output_type": "display_data"
    }
   ],
   "source": [
    "print(\"efficacy_validation\")\n",
    "display(efficacy_validation)\n",
    "\n",
    "print(\"efficacy_oos\")\n",
    "display(efficacy_oos)"
   ]
  }
 ],
 "metadata": {
  "kernelspec": {
   "display_name": "Python 2",
   "language": "python",
   "name": "python2"
  },
  "language_info": {
   "codemirror_mode": {
    "name": "ipython",
    "version": 2
   },
   "file_extension": ".py",
   "mimetype": "text/x-python",
   "name": "python",
   "nbconvert_exporter": "python",
   "pygments_lexer": "ipython2",
   "version": "2.7.11"
  }
 },
 "nbformat": 4,
 "nbformat_minor": 0
}
